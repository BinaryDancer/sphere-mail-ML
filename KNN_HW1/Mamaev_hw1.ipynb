{
 "cells": [
  {
   "cell_type": "markdown",
   "metadata": {},
   "source": [
    "**Общая информация**\n",
    "\n",
    "**Срок сдачи:** 18 октября 2017, 06:00 <br\\>\n",
    "**Штраф за опоздание:** -2 балла после 06:00 18 октября, -4 балла после 06:00 25 октября, -6 баллов после 06:00 1 ноября\n",
    "\n",
    "При отправлении ДЗ указывайте фамилию в названии файла\n",
    "Присылать ДЗ необходимо в виде ссылки на свой github репозиторий в slack @alkhamush\n",
    "\n",
    "Необходимо в slack создать таск в приватный чат:\n",
    "/todo Фамилия Имя ссылка на гитхаб @alkhamush\n",
    "Пример:\n",
    "/todo Ксения Стройкова https://github.com/stroykova/spheremailru/stroykova_hw1.ipynb @alkhamush\n",
    "Дополнительно нужно просто скинуть ссылку в slack в личный чат\n",
    "\n",
    "Используйте данный Ipython Notebook при оформлении домашнего задания."
   ]
  },
  {
   "cell_type": "markdown",
   "metadata": {},
   "source": [
    "###### Задание 1 (2 баллов)\n",
    "Реализовать KNN в классе MyKNeighborsClassifier (обязательное условие: точность не ниже sklearn реализации)\n",
    "Разберитесь самостоятельно, какая мера расстояния используется в KNeighborsClassifier дефолтно и реализуйте свой алгоритм именно с этой мерой. Самостоятельно разберитесь, как считается score из KNeighborsClassifier и реализуйте аналог в своём классе. Score не должен уступать значению KNN из sklearn\n",
    "\n",
    "###### Задание 2 (2 балла)\n",
    "Добиться скорости работы на fit,  predict и predict_proba сравнимой со sklearn для iris и mnist\n",
    "Для этого используем numpy\n",
    "\n",
    "###### Задание 3 (2 балла)\n",
    "Для iris найдите такой параметр n_neighbors, при котором выдаётся наилучший score. Нарисуйте график зависимости score от n_neighbors\n",
    "\n",
    "###### Задание 4 (3 балла)\n",
    "Добавить algorithm='kd_tree' в реализацию KNN (использовать KDTree из sklearn.neighbors). Значение n_neighbors нужно взять из задания 3. Добиться скорости работы на fit,  predict и predict_proba сравнимой со sklearn для iris и mnist\n",
    "Для этого используем numpy. Score не должен уступать значению KNN из sklearn\n",
    "\n",
    "###### Задание 5 (1 балла)\n",
    "Описать для чего нужны следующие библиотеки/классы/функции (список будет ниже)\n",
    "\n",
    "**Штрафные баллы:**\n",
    "\n",
    "1. Невыполнение PEP8 -1 балл\n",
    "2. Отсутствие фамилии в имени скрипта (скрипт должен называться по аналогии со stroykova_hw1.ipynb) -1 балл\n",
    "3. Все строчки должны быть выполнены. Нужно, чтобы output команды можно было увидеть уже в git'е. В противном случае -1 балл\n",
    "4. При оформлении ДЗ нужно пользоваться данным файлом в качестве шаблона. Не нужно удалять и видоизменять структуру кода и текст. В противном случае -1 балл\n"
   ]
  },
  {
   "cell_type": "code",
   "execution_count": 1,
   "metadata": {},
   "outputs": [],
   "source": [
    "import numpy as np\n",
    "import matplotlib.pyplot as plt\n",
    "\n",
    "from scipy import stats\n",
    "import seaborn as sns\n",
    "from sklearn import datasets\n",
    "from sklearn.base import ClassifierMixin\n",
    "from sklearn.datasets import fetch_mldata\n",
    "from sklearn.neighbors.base import NeighborsBase, KNeighborsMixin, SupervisedIntegerMixin \n",
    "from sklearn.model_selection import train_test_split\n",
    "from sklearn.neighbors import KNeighborsClassifier, KDTree\n",
    "#%load_ext pycodestyle_magic"
   ]
  },
  {
   "cell_type": "code",
   "execution_count": 2,
   "metadata": {},
   "outputs": [],
   "source": [
    "#%%pycodestyle\n",
    "\n",
    "class MyKNeighborsClassifier(NeighborsBase, KNeighborsMixin, SupervisedIntegerMixin, ClassifierMixin):\n",
    "    \n",
    "    def __init__(self, n_neighbors, algorithm='brute'):\n",
    "        self.neighbors = n_neighbors\n",
    "        self.algo = algorithm\n",
    "    \n",
    "    def fit(self, X, y):\n",
    "        self.X = np.copy(X).astype(float)\n",
    "        self.y = np.copy(y)\n",
    "        self.classes = np.unique(y)\n",
    "        self.n_classes = self.classes.shape[0]\n",
    "        self.distanse_y = (self.X ** 2).sum(axis = 1)\n",
    "    \n",
    "    def predict(self, X):\n",
    "        if self.algo == \"brute\":\n",
    "            return self.solve_brute(X)\n",
    "        elif self.algo == \"kd_tree\":\n",
    "            return self.solve_kdtree(X)\n",
    "        \n",
    "    def predict_proba(self, X):\n",
    "        if self.algo == 'brute':\n",
    "            return self.solve_proba_brute(X)\n",
    "        elif self.algo == 'kd_tree':\n",
    "            return self.solve_proba_kdtree(X)\n",
    "    \n",
    "    def solve_brute(self, X):\n",
    "        X = X.astype(float)\n",
    "        distance_x = (X ** 2).sum(axis=1)\n",
    "        distanse_x_y = X.dot(self.X.T) \n",
    "        # матрица *на столбец\n",
    "        # (x^2 - y^2)\n",
    "        dist = self.distanse_y - 2 * distanse_x_y + distance_x.reshape(-1, 1)\n",
    "        new_distance = np.sqrt(dist) #вектор расстояний\n",
    "        args = np.argsort(new_distance)\n",
    "        predict = self.y[args[:, :self.neighbors]]\n",
    "        # первые neigbours элементов в каждой строке\n",
    "        return stats.mode(predict.T)[0].reshape(-1) \n",
    "        # берет из ModeResult mode = array и из двумерного делает одномерный\n",
    "    \n",
    "    def solve_proba_brute(self, X):\n",
    "        X = X.astype(float)\n",
    "        distance_x = (X ** 2).sum(axis=1)\n",
    "        distanse_x_y = X.dot(self.X.T)\n",
    "        dist = self.distanse_y - 2 * distanse_x_y + distance_x.reshape(-1, 1)\n",
    "        new_distance = np.sqrt(dist)\n",
    "        \n",
    "        args = np.argsort(new_distance)\n",
    "        nearest = args[:, :self.neighbors] #index K nearest\n",
    "        predict = np.zeros((np.shape(X)[0], np.shape(self.classes)[0]))\n",
    "        for i in range(np.shape(nearest)[0]):\n",
    "            for j in nearest[i]:\n",
    "                predict[i][int(self.y[j])] += 1\n",
    "        return predict / self.neighbors\n",
    "\n",
    "    def solve_kdtree(self, X):\n",
    "        X = X.astype(float)\n",
    "        tree = KDTree(self.X, leaf_size=50) #50 влияет на память, и на скорость: увеличивает\n",
    "        _, ind = tree.query(X, k=self.neighbors) #возвращает значения и индексы\n",
    "        predict = self.y[ind].T\n",
    "        return stats.mode(predict)[0].reshape(-1)\n",
    "\n",
    "    def solve_proba_kdtree(self, X): #вероятности попадания в класс, поэтому делим на \n",
    "        X = X.astype(float)\n",
    "        tree = KDTree(self.X, leaf_size=50)\n",
    "        _, near = tree.query(X, k=self.neighbors)\n",
    "        \n",
    "        predict = np.zeros((np.shape(X)[0], np.shape(self.classes)[0]))\n",
    "        for i in range(np.shape(near)[0]):\n",
    "            for j in near[i]:\n",
    "                predict[i][int(self.y[j])] += 1\n",
    "        return predict / self.neighbors\n",
    "\n",
    "    def score(self, X, y):\n",
    "        new_ans = np.subtract(self.predict(X), y)\n",
    "        summ = np.count_nonzero(new_ans)\n",
    "        return 1 - summ / y.shape[0]"
   ]
  },
  {
   "cell_type": "markdown",
   "metadata": {},
   "source": [
    "**IRIS**"
   ]
  },
  {
   "cell_type": "code",
   "execution_count": 15,
   "metadata": {},
   "outputs": [],
   "source": [
    "iris = datasets.load_iris()"
   ]
  },
  {
   "cell_type": "code",
   "execution_count": 16,
   "metadata": {},
   "outputs": [],
   "source": [
    "X_train, X_test, y_train, y_test = train_test_split(iris.data, iris.target, test_size=0.1, stratify=iris.target)"
   ]
  },
  {
   "cell_type": "code",
   "execution_count": 17,
   "metadata": {},
   "outputs": [],
   "source": [
    "clf = KNeighborsClassifier(n_neighbors=2)\n",
    "my_clf = MyKNeighborsClassifier(n_neighbors=2)"
   ]
  },
  {
   "cell_type": "code",
   "execution_count": 6,
   "metadata": {},
   "outputs": [
    {
     "name": "stdout",
     "output_type": "stream",
     "text": [
      "CPU times: user 1.15 ms, sys: 239 µs, total: 1.39 ms\n",
      "Wall time: 1.27 ms\n"
     ]
    },
    {
     "data": {
      "text/plain": [
       "KNeighborsClassifier(algorithm='auto', leaf_size=30, metric='minkowski',\n",
       "           metric_params=None, n_jobs=None, n_neighbors=2, p=2,\n",
       "           weights='uniform')"
      ]
     },
     "execution_count": 6,
     "metadata": {},
     "output_type": "execute_result"
    }
   ],
   "source": [
    "%time clf.fit(X_train, y_train)"
   ]
  },
  {
   "cell_type": "code",
   "execution_count": 7,
   "metadata": {},
   "outputs": [
    {
     "name": "stdout",
     "output_type": "stream",
     "text": [
      "CPU times: user 330 µs, sys: 197 µs, total: 527 µs\n",
      "Wall time: 359 µs\n"
     ]
    }
   ],
   "source": [
    "%time my_clf.fit(X_train, y_train)"
   ]
  },
  {
   "cell_type": "code",
   "execution_count": 8,
   "metadata": {},
   "outputs": [
    {
     "name": "stdout",
     "output_type": "stream",
     "text": [
      "CPU times: user 1.15 ms, sys: 245 µs, total: 1.4 ms\n",
      "Wall time: 1.31 ms\n"
     ]
    },
    {
     "data": {
      "text/plain": [
       "array([0, 0, 0, 1, 0, 2, 1, 1, 0, 2, 1, 2, 1, 2, 1])"
      ]
     },
     "execution_count": 8,
     "metadata": {},
     "output_type": "execute_result"
    }
   ],
   "source": [
    "%time clf.predict(X_test)"
   ]
  },
  {
   "cell_type": "code",
   "execution_count": 9,
   "metadata": {},
   "outputs": [
    {
     "name": "stdout",
     "output_type": "stream",
     "text": [
      "CPU times: user 3.63 ms, sys: 2.25 ms, total: 5.88 ms\n",
      "Wall time: 3.96 ms\n"
     ]
    },
    {
     "data": {
      "text/plain": [
       "array([0, 0, 0, 1, 0, 2, 1, 1, 0, 2, 1, 2, 1, 2, 1])"
      ]
     },
     "execution_count": 9,
     "metadata": {},
     "output_type": "execute_result"
    }
   ],
   "source": [
    "%time my_clf.predict(X_test)"
   ]
  },
  {
   "cell_type": "code",
   "execution_count": 10,
   "metadata": {},
   "outputs": [
    {
     "name": "stdout",
     "output_type": "stream",
     "text": [
      "CPU times: user 906 µs, sys: 202 µs, total: 1.11 ms\n",
      "Wall time: 960 µs\n"
     ]
    },
    {
     "data": {
      "text/plain": [
       "array([[1., 0., 0.],\n",
       "       [1., 0., 0.],\n",
       "       [1., 0., 0.],\n",
       "       [0., 1., 0.],\n",
       "       [1., 0., 0.],\n",
       "       [0., 0., 1.],\n",
       "       [0., 1., 0.],\n",
       "       [0., 1., 0.],\n",
       "       [1., 0., 0.],\n",
       "       [0., 0., 1.],\n",
       "       [0., 1., 0.],\n",
       "       [0., 0., 1.],\n",
       "       [0., 1., 0.],\n",
       "       [0., 0., 1.],\n",
       "       [0., 1., 0.]])"
      ]
     },
     "execution_count": 10,
     "metadata": {},
     "output_type": "execute_result"
    }
   ],
   "source": [
    "%time clf.predict_proba(X_test)"
   ]
  },
  {
   "cell_type": "code",
   "execution_count": 11,
   "metadata": {},
   "outputs": [
    {
     "name": "stdout",
     "output_type": "stream",
     "text": [
      "CPU times: user 865 µs, sys: 847 µs, total: 1.71 ms\n",
      "Wall time: 1.22 ms\n"
     ]
    },
    {
     "data": {
      "text/plain": [
       "array([[1., 0., 0.],\n",
       "       [1., 0., 0.],\n",
       "       [1., 0., 0.],\n",
       "       [0., 1., 0.],\n",
       "       [1., 0., 0.],\n",
       "       [0., 0., 1.],\n",
       "       [0., 1., 0.],\n",
       "       [0., 1., 0.],\n",
       "       [1., 0., 0.],\n",
       "       [0., 0., 1.],\n",
       "       [0., 1., 0.],\n",
       "       [0., 0., 1.],\n",
       "       [0., 1., 0.],\n",
       "       [0., 0., 1.],\n",
       "       [0., 1., 0.]])"
      ]
     },
     "execution_count": 11,
     "metadata": {},
     "output_type": "execute_result"
    }
   ],
   "source": [
    "%time my_clf.predict_proba(X_test)"
   ]
  },
  {
   "cell_type": "code",
   "execution_count": 12,
   "metadata": {},
   "outputs": [
    {
     "data": {
      "text/plain": [
       "0.9333333333333333"
      ]
     },
     "execution_count": 12,
     "metadata": {},
     "output_type": "execute_result"
    }
   ],
   "source": [
    "clf.score(X_test, y_test)"
   ]
  },
  {
   "cell_type": "code",
   "execution_count": 13,
   "metadata": {},
   "outputs": [
    {
     "data": {
      "text/plain": [
       "0.9333333333333333"
      ]
     },
     "execution_count": 13,
     "metadata": {},
     "output_type": "execute_result"
    }
   ],
   "source": [
    "my_clf.score(X_test, y_test)"
   ]
  },
  {
   "cell_type": "markdown",
   "metadata": {},
   "source": [
    "Задание 3"
   ]
  },
  {
   "cell_type": "code",
   "execution_count": 19,
   "metadata": {},
   "outputs": [
    {
     "name": "stdout",
     "output_type": "stream",
     "text": [
      "Best number of neigbors is 9\n"
     ]
    },
    {
     "data": {
      "image/png": "[encoded data removed]",
      "text/plain": [
       "<Figure size 432x288 with 1 Axes>"
      ]
     },
     "metadata": {
      "needs_background": "light"
     },
     "output_type": "display_data"
    }
   ],
   "source": [
    "#%%pycodestyle\n",
    "MAX_neighbors = 30\n",
    "TESTS = 100\n",
    "answer = []\n",
    "\n",
    "for i in range(1, MAX_neighbors + 1):\n",
    "    testing_results = []\n",
    "    for j in range(TESTS):\n",
    "        X_train, X_test, y_train, y_test = train_test_split(\n",
    "            iris.data, iris.target,\n",
    "            test_size=0.1, stratify=iris.target\n",
    "        )\n",
    "        my_clf = MyKNeighborsClassifier(n_neighbors=i)\n",
    "        my_clf.fit(X_train, y_train)\n",
    "        testing_results.append(my_clf.score(X_test, y_test))\n",
    "    answer.append(np.mean(testing_results))\n",
    "\n",
    "BESTS = np.argmax(answer) + 1\n",
    "print(\"Best number of neigbors is {}\".format(BESTS))\n",
    "\n",
    "plt.plot(list(range(1, MAX_neighbors+1)), answer, 'ro-')\n",
    "plt.show()"
   ]
  },
  {
   "cell_type": "markdown",
   "metadata": {},
   "source": [
    "**MNIST**"
   ]
  },
  {
   "cell_type": "code",
   "execution_count": 3,
   "metadata": {},
   "outputs": [
    {
     "name": "stderr",
     "output_type": "stream",
     "text": [
      "/anaconda3/lib/python3.6/site-packages/sklearn/utils/deprecation.py:77: DeprecationWarning: Function fetch_mldata is deprecated; fetch_mldata was deprecated in version 0.20 and will be removed in version 0.22\n",
      "  warnings.warn(msg, category=DeprecationWarning)\n",
      "/anaconda3/lib/python3.6/site-packages/sklearn/utils/deprecation.py:77: DeprecationWarning: Function mldata_filename is deprecated; mldata_filename was deprecated in version 0.20 and will be removed in version 0.22\n",
      "  warnings.warn(msg, category=DeprecationWarning)\n"
     ]
    }
   ],
   "source": [
    "mnist = fetch_mldata('MNIST original')"
   ]
  },
  {
   "cell_type": "code",
   "execution_count": 4,
   "metadata": {},
   "outputs": [],
   "source": [
    "X_train, X_test, y_train, y_test = train_test_split(mnist.data, mnist.target, test_size=0.01, stratify=mnist.target)"
   ]
  },
  {
   "cell_type": "code",
   "execution_count": 5,
   "metadata": {},
   "outputs": [],
   "source": [
    "clf = KNeighborsClassifier(n_neighbors=2)\n",
    "my_clf = MyKNeighborsClassifier(n_neighbors=2)"
   ]
  },
  {
   "cell_type": "code",
   "execution_count": 17,
   "metadata": {},
   "outputs": [
    {
     "name": "stdout",
     "output_type": "stream",
     "text": [
      "CPU times: user 35.7 s, sys: 395 ms, total: 36.1 s\n",
      "Wall time: 36.4 s\n"
     ]
    },
    {
     "data": {
      "text/plain": [
       "KNeighborsClassifier(algorithm='auto', leaf_size=30, metric='minkowski',\n",
       "           metric_params=None, n_jobs=None, n_neighbors=2, p=2,\n",
       "           weights='uniform')"
      ]
     },
     "execution_count": 17,
     "metadata": {},
     "output_type": "execute_result"
    }
   ],
   "source": [
    "%time clf.fit(X_train, y_train)"
   ]
  },
  {
   "cell_type": "code",
   "execution_count": 6,
   "metadata": {},
   "outputs": [
    {
     "name": "stdout",
     "output_type": "stream",
     "text": [
      "CPU times: user 803 ms, sys: 676 ms, total: 1.48 s\n",
      "Wall time: 1.53 s\n"
     ]
    }
   ],
   "source": [
    "%time my_clf.fit(X_train, y_train)"
   ]
  },
  {
   "cell_type": "code",
   "execution_count": 19,
   "metadata": {},
   "outputs": [
    {
     "name": "stdout",
     "output_type": "stream",
     "text": [
      "CPU times: user 57.9 s, sys: 240 ms, total: 58.1 s\n",
      "Wall time: 58.4 s\n"
     ]
    },
    {
     "data": {
      "text/plain": [
       "array([9., 7., 4., 9., 9., 0., 2., 7., 8., 2., 7., 1., 4., 7., 7., 2., 7.,\n",
       "       2., 6., 1., 0., 6., 6., 7., 5., 3., 8., 2., 1., 0., 5., 3., 3., 2.,\n",
       "       2., 5., 9., 4., 2., 3., 4., 9., 3., 9., 4., 2., 4., 4., 1., 8., 7.,\n",
       "       0., 1., 5., 8., 0., 9., 7., 1., 8., 0., 0., 5., 3., 0., 8., 1., 1.,\n",
       "       7., 7., 1., 9., 0., 3., 5., 3., 1., 6., 5., 4., 7., 6., 7., 9., 9.,\n",
       "       3., 8., 7., 1., 7., 4., 6., 8., 7., 9., 6., 0., 6., 6., 7., 3., 7.,\n",
       "       9., 4., 4., 7., 3., 1., 4., 6., 6., 6., 5., 7., 1., 9., 1., 4., 1.,\n",
       "       4., 4., 5., 7., 1., 9., 4., 5., 2., 7., 2., 9., 0., 4., 8., 9., 6.,\n",
       "       5., 0., 3., 3., 6., 6., 0., 3., 6., 4., 2., 4., 1., 0., 0., 3., 1.,\n",
       "       0., 8., 8., 0., 6., 6., 6., 9., 9., 6., 3., 6., 2., 7., 5., 2., 0.,\n",
       "       4., 4., 6., 6., 7., 6., 7., 1., 4., 5., 2., 4., 1., 1., 3., 6., 5.,\n",
       "       7., 7., 8., 8., 1., 8., 7., 0., 6., 9., 9., 6., 5., 3., 8., 6., 1.,\n",
       "       4., 6., 3., 6., 5., 2., 0., 5., 9., 3., 1., 4., 0., 7., 5., 1., 7.,\n",
       "       6., 0., 2., 0., 9., 5., 3., 9., 9., 3., 3., 3., 1., 2., 9., 1., 6.,\n",
       "       0., 4., 8., 6., 0., 1., 7., 1., 0., 8., 8., 1., 9., 8., 7., 7., 4.,\n",
       "       6., 7., 4., 6., 8., 1., 1., 7., 8., 2., 9., 9., 5., 8., 4., 2., 4.,\n",
       "       2., 2., 3., 2., 3., 1., 3., 2., 1., 4., 9., 3., 6., 0., 9., 6., 8.,\n",
       "       0., 1., 4., 4., 3., 5., 5., 8., 8., 1., 7., 9., 3., 8., 0., 7., 4.,\n",
       "       0., 3., 2., 9., 3., 2., 0., 9., 2., 2., 0., 1., 6., 4., 5., 2., 1.,\n",
       "       2., 2., 3., 1., 9., 4., 0., 2., 3., 4., 4., 9., 7., 7., 0., 5., 7.,\n",
       "       8., 7., 4., 2., 8., 4., 9., 0., 3., 4., 7., 3., 5., 2., 1., 6., 0.,\n",
       "       3., 6., 8., 3., 1., 3., 1., 1., 9., 1., 4., 6., 7., 5., 5., 0., 0.,\n",
       "       8., 4., 0., 9., 2., 4., 0., 5., 9., 5., 8., 1., 7., 0., 1., 4., 1.,\n",
       "       4., 5., 6., 3., 6., 2., 3., 2., 3., 6., 0., 8., 0., 2., 5., 3., 5.,\n",
       "       2., 3., 5., 8., 9., 3., 4., 4., 8., 8., 9., 8., 3., 9., 7., 3., 4.,\n",
       "       0., 0., 6., 0., 5., 4., 9., 4., 0., 0., 2., 0., 7., 5., 6., 2., 3.,\n",
       "       1., 7., 6., 3., 1., 1., 7., 6., 7., 8., 2., 4., 9., 5., 6., 4., 5.,\n",
       "       3., 8., 9., 5., 9., 6., 8., 8., 7., 7., 7., 7., 9., 8., 3., 1., 0.,\n",
       "       5., 4., 1., 9., 7., 6., 8., 2., 6., 1., 5., 2., 5., 0., 9., 2., 2.,\n",
       "       6., 9., 0., 2., 2., 3., 8., 1., 7., 1., 5., 0., 6., 3., 1., 6., 5.,\n",
       "       5., 1., 2., 2., 2., 4., 3., 0., 5., 1., 4., 7., 2., 9., 6., 5., 0.,\n",
       "       3., 2., 2., 9., 3., 3., 2., 9., 8., 4., 7., 1., 0., 8., 6., 5., 9.,\n",
       "       3., 5., 9., 2., 7., 8., 5., 8., 2., 7., 3., 3., 8., 2., 8., 2., 7.,\n",
       "       0., 9., 3., 1., 1., 9., 1., 3., 1., 9., 8., 8., 1., 1., 6., 4., 0.,\n",
       "       1., 5., 1., 1., 4., 7., 7., 0., 1., 9., 0., 7., 1., 8., 0., 0., 8.,\n",
       "       8., 2., 4., 2., 4., 4., 1., 4., 7., 8., 4., 5., 5., 8., 3., 9., 1.,\n",
       "       0., 6., 7., 6., 4., 7., 2., 8., 3., 2., 0., 1., 3., 6., 2., 4., 1.,\n",
       "       6., 0., 5., 7., 2., 6., 7., 8., 1., 9., 0., 7., 4., 1., 1., 0., 1.,\n",
       "       5., 3., 2., 6., 0., 1., 3., 5., 1., 4., 6., 6., 6., 7., 4., 5., 6.,\n",
       "       9., 4., 9., 3., 9., 0., 0., 8., 5., 0., 5., 8., 3., 3., 3., 1., 5.,\n",
       "       9., 0., 6., 1., 9., 5., 4., 5., 9., 1., 2., 2., 4., 8., 5., 0., 8.,\n",
       "       9., 7., 2.])"
      ]
     },
     "execution_count": 19,
     "metadata": {},
     "output_type": "execute_result"
    }
   ],
   "source": [
    "%time clf.predict(X_test)"
   ]
  },
  {
   "cell_type": "code",
   "execution_count": 20,
   "metadata": {},
   "outputs": [
    {
     "name": "stdout",
     "output_type": "stream",
     "text": [
      "CPU times: user 8.88 s, sys: 2.08 s, total: 11 s\n",
      "Wall time: 10.4 s\n"
     ]
    },
    {
     "data": {
      "text/plain": [
       "array([9., 7., 4., 9., 9., 0., 2., 7., 8., 2., 7., 1., 4., 7., 7., 2., 7.,\n",
       "       2., 6., 1., 0., 6., 6., 7., 5., 3., 8., 2., 1., 0., 5., 3., 3., 2.,\n",
       "       2., 5., 9., 4., 2., 3., 4., 9., 3., 9., 4., 2., 4., 4., 1., 8., 7.,\n",
       "       0., 1., 5., 8., 0., 9., 7., 1., 8., 0., 0., 5., 3., 0., 8., 1., 1.,\n",
       "       7., 7., 1., 9., 0., 3., 5., 3., 1., 6., 5., 4., 7., 6., 7., 9., 9.,\n",
       "       3., 8., 7., 1., 7., 4., 6., 8., 7., 9., 6., 0., 6., 6., 7., 3., 7.,\n",
       "       9., 4., 4., 7., 3., 1., 4., 6., 6., 6., 5., 7., 1., 9., 1., 4., 1.,\n",
       "       4., 4., 5., 7., 1., 9., 4., 5., 2., 7., 2., 9., 0., 4., 8., 9., 6.,\n",
       "       5., 0., 3., 3., 6., 6., 0., 3., 6., 4., 2., 4., 1., 0., 0., 3., 1.,\n",
       "       0., 8., 8., 0., 6., 6., 6., 9., 9., 6., 3., 6., 2., 7., 5., 2., 0.,\n",
       "       4., 4., 6., 6., 7., 6., 7., 1., 4., 5., 2., 4., 1., 1., 3., 6., 5.,\n",
       "       7., 7., 8., 8., 1., 8., 7., 0., 6., 9., 9., 6., 5., 3., 8., 6., 1.,\n",
       "       4., 6., 3., 6., 5., 2., 0., 5., 9., 3., 1., 4., 0., 7., 5., 1., 7.,\n",
       "       6., 0., 2., 0., 9., 5., 3., 9., 9., 3., 3., 3., 1., 2., 9., 1., 6.,\n",
       "       0., 4., 8., 6., 0., 1., 7., 1., 0., 8., 8., 1., 9., 8., 7., 7., 4.,\n",
       "       6., 7., 4., 6., 8., 1., 1., 7., 8., 2., 9., 9., 5., 8., 4., 2., 4.,\n",
       "       2., 2., 3., 2., 3., 1., 3., 2., 1., 4., 9., 3., 6., 0., 9., 6., 8.,\n",
       "       0., 1., 4., 4., 3., 5., 5., 8., 8., 1., 7., 9., 3., 8., 0., 7., 4.,\n",
       "       0., 3., 2., 9., 3., 2., 0., 9., 2., 2., 0., 1., 6., 4., 5., 2., 1.,\n",
       "       2., 2., 3., 1., 9., 4., 0., 2., 3., 4., 4., 9., 7., 7., 0., 5., 7.,\n",
       "       8., 7., 4., 2., 8., 4., 9., 0., 3., 4., 7., 3., 5., 2., 1., 6., 0.,\n",
       "       3., 6., 8., 3., 1., 3., 1., 1., 9., 1., 4., 6., 7., 5., 5., 0., 0.,\n",
       "       8., 4., 0., 9., 2., 4., 0., 5., 9., 5., 8., 1., 7., 0., 1., 4., 1.,\n",
       "       4., 5., 6., 3., 6., 2., 3., 2., 3., 6., 0., 8., 0., 2., 5., 3., 5.,\n",
       "       2., 3., 5., 8., 9., 3., 4., 4., 8., 8., 9., 8., 3., 9., 7., 3., 4.,\n",
       "       0., 0., 6., 0., 5., 4., 9., 4., 0., 0., 2., 0., 7., 5., 6., 2., 3.,\n",
       "       1., 7., 6., 3., 1., 1., 7., 6., 7., 8., 2., 4., 9., 5., 6., 4., 5.,\n",
       "       3., 8., 9., 5., 9., 6., 8., 8., 7., 7., 7., 7., 9., 8., 3., 1., 0.,\n",
       "       5., 4., 1., 9., 7., 6., 8., 2., 6., 1., 5., 2., 5., 0., 9., 2., 2.,\n",
       "       6., 9., 0., 2., 2., 3., 8., 1., 7., 1., 5., 0., 6., 3., 1., 6., 5.,\n",
       "       5., 1., 2., 2., 2., 4., 3., 0., 5., 1., 4., 7., 2., 9., 6., 5., 0.,\n",
       "       3., 2., 2., 9., 3., 3., 2., 9., 8., 4., 7., 1., 0., 8., 6., 5., 9.,\n",
       "       3., 5., 9., 2., 7., 8., 5., 8., 2., 7., 3., 3., 8., 2., 8., 2., 7.,\n",
       "       0., 9., 3., 1., 1., 9., 1., 3., 1., 9., 8., 8., 1., 1., 6., 4., 0.,\n",
       "       1., 5., 1., 1., 4., 7., 7., 0., 1., 9., 0., 7., 1., 8., 0., 0., 8.,\n",
       "       8., 2., 4., 2., 4., 4., 1., 4., 7., 8., 4., 5., 5., 8., 3., 9., 1.,\n",
       "       0., 6., 7., 6., 4., 7., 2., 8., 3., 2., 0., 1., 3., 6., 2., 4., 1.,\n",
       "       6., 0., 5., 7., 2., 6., 7., 8., 1., 9., 0., 7., 4., 1., 1., 0., 1.,\n",
       "       5., 3., 2., 6., 0., 1., 3., 5., 1., 4., 6., 6., 6., 7., 4., 5., 6.,\n",
       "       9., 4., 9., 3., 9., 0., 0., 8., 5., 0., 5., 8., 3., 3., 3., 1., 5.,\n",
       "       9., 0., 6., 1., 9., 5., 4., 5., 9., 1., 2., 2., 4., 8., 5., 0., 8.,\n",
       "       9., 7., 2.])"
      ]
     },
     "execution_count": 20,
     "metadata": {},
     "output_type": "execute_result"
    }
   ],
   "source": [
    "%time my_clf.predict(X_test)"
   ]
  },
  {
   "cell_type": "code",
   "execution_count": 21,
   "metadata": {},
   "outputs": [
    {
     "name": "stdout",
     "output_type": "stream",
     "text": [
      "CPU times: user 59.1 s, sys: 292 ms, total: 59.4 s\n",
      "Wall time: 59.9 s\n"
     ]
    },
    {
     "data": {
      "text/plain": [
       "array([[0., 0., 0., ..., 0., 0., 1.],\n",
       "       [0., 0., 0., ..., 1., 0., 0.],\n",
       "       [0., 0., 0., ..., 0., 0., 0.],\n",
       "       ...,\n",
       "       [0., 0., 0., ..., 0., 0., 1.],\n",
       "       [0., 0., 0., ..., 1., 0., 0.],\n",
       "       [0., 0., 1., ..., 0., 0., 0.]])"
      ]
     },
     "execution_count": 21,
     "metadata": {},
     "output_type": "execute_result"
    }
   ],
   "source": [
    "%time clf.predict_proba(X_test)"
   ]
  },
  {
   "cell_type": "code",
   "execution_count": 7,
   "metadata": {},
   "outputs": [
    {
     "name": "stdout",
     "output_type": "stream",
     "text": [
      "CPU times: user 7.72 s, sys: 1.52 s, total: 9.24 s\n",
      "Wall time: 7.88 s\n"
     ]
    },
    {
     "data": {
      "text/plain": [
       "array([[0., 0., 0., ..., 0., 0., 0.],\n",
       "       [0., 0., 0., ..., 1., 0., 0.],\n",
       "       [0., 0., 1., ..., 0., 0., 0.],\n",
       "       ...,\n",
       "       [0., 0., 0., ..., 0., 0., 0.],\n",
       "       [0., 0., 0., ..., 0., 1., 0.],\n",
       "       [0., 0., 0., ..., 0., 0., 0.]])"
      ]
     },
     "execution_count": 7,
     "metadata": {},
     "output_type": "execute_result"
    }
   ],
   "source": [
    "%time my_clf.predict_proba(X_test)"
   ]
  },
  {
   "cell_type": "code",
   "execution_count": 23,
   "metadata": {},
   "outputs": [
    {
     "data": {
      "text/plain": [
       "0.9757142857142858"
      ]
     },
     "execution_count": 23,
     "metadata": {},
     "output_type": "execute_result"
    }
   ],
   "source": [
    "clf.score(X_test, y_test)"
   ]
  },
  {
   "cell_type": "code",
   "execution_count": 24,
   "metadata": {},
   "outputs": [
    {
     "data": {
      "text/plain": [
       "0.9757142857142858"
      ]
     },
     "execution_count": 24,
     "metadata": {},
     "output_type": "execute_result"
    }
   ],
   "source": [
    "my_clf.score(X_test, y_test)"
   ]
  },
  {
   "cell_type": "markdown",
   "metadata": {},
   "source": [
    "Задание 4"
   ]
  },
  {
   "cell_type": "code",
   "execution_count": 8,
   "metadata": {},
   "outputs": [],
   "source": [
    "clf = KNeighborsClassifier(n_neighbors=2, algorithm='kd_tree')\n",
    "my_clf = MyKNeighborsClassifier(n_neighbors=2, algorithm='kd_tree')"
   ]
  },
  {
   "cell_type": "code",
   "execution_count": 9,
   "metadata": {},
   "outputs": [],
   "source": [
    "X_train, X_test, y_train, y_test = train_test_split(mnist.data, mnist.target, test_size=0.01, stratify=mnist.target)"
   ]
  },
  {
   "cell_type": "code",
   "execution_count": 10,
   "metadata": {},
   "outputs": [
    {
     "name": "stdout",
     "output_type": "stream",
     "text": [
      "CPU times: user 35 s, sys: 361 ms, total: 35.3 s\n",
      "Wall time: 35.5 s\n"
     ]
    },
    {
     "data": {
      "text/plain": [
       "KNeighborsClassifier(algorithm='kd_tree', leaf_size=30, metric='minkowski',\n",
       "           metric_params=None, n_jobs=None, n_neighbors=2, p=2,\n",
       "           weights='uniform')"
      ]
     },
     "execution_count": 10,
     "metadata": {},
     "output_type": "execute_result"
    }
   ],
   "source": [
    "%time clf.fit(X_train, y_train)"
   ]
  },
  {
   "cell_type": "code",
   "execution_count": 11,
   "metadata": {},
   "outputs": [
    {
     "name": "stdout",
     "output_type": "stream",
     "text": [
      "CPU times: user 579 ms, sys: 394 ms, total: 973 ms\n",
      "Wall time: 535 ms\n"
     ]
    }
   ],
   "source": [
    "%time my_clf.fit(X_train, y_train)"
   ]
  },
  {
   "cell_type": "code",
   "execution_count": 29,
   "metadata": {},
   "outputs": [
    {
     "name": "stdout",
     "output_type": "stream",
     "text": [
      "CPU times: user 57.1 s, sys: 126 ms, total: 57.3 s\n",
      "Wall time: 57.4 s\n"
     ]
    },
    {
     "data": {
      "text/plain": [
       "array([0., 7., 2., 7., 6., 9., 5., 9., 0., 5., 7., 0., 7., 5., 5., 1., 1.,\n",
       "       5., 0., 3., 1., 0., 1., 2., 3., 4., 1., 5., 1., 3., 5., 9., 2., 7.,\n",
       "       0., 9., 5., 7., 3., 3., 9., 9., 0., 4., 8., 9., 4., 3., 1., 0., 7.,\n",
       "       7., 9., 1., 8., 5., 4., 5., 9., 4., 9., 7., 3., 7., 9., 6., 5., 6.,\n",
       "       9., 1., 6., 1., 8., 0., 4., 3., 4., 9., 3., 7., 4., 7., 8., 3., 7.,\n",
       "       2., 4., 6., 1., 9., 4., 5., 7., 1., 3., 6., 4., 1., 5., 2., 1., 5.,\n",
       "       1., 2., 8., 9., 1., 3., 2., 4., 1., 9., 3., 7., 4., 2., 6., 3., 9.,\n",
       "       9., 2., 4., 6., 6., 4., 0., 8., 7., 2., 5., 5., 4., 8., 5., 7., 3.,\n",
       "       1., 0., 6., 6., 1., 1., 6., 7., 0., 5., 3., 9., 8., 0., 8., 1., 1.,\n",
       "       7., 1., 1., 0., 9., 4., 7., 5., 2., 4., 4., 5., 7., 9., 6., 0., 4.,\n",
       "       7., 8., 1., 0., 7., 4., 3., 1., 7., 3., 1., 3., 2., 8., 5., 1., 2.,\n",
       "       9., 9., 8., 3., 9., 2., 3., 8., 0., 0., 4., 8., 3., 3., 6., 0., 2.,\n",
       "       0., 8., 2., 7., 3., 8., 2., 4., 0., 3., 9., 2., 0., 2., 3., 0., 1.,\n",
       "       6., 3., 5., 5., 0., 6., 3., 8., 4., 3., 5., 7., 1., 7., 9., 0., 5.,\n",
       "       5., 5., 9., 7., 3., 2., 7., 7., 7., 2., 0., 1., 9., 2., 1., 5., 2.,\n",
       "       2., 0., 5., 6., 3., 2., 4., 1., 7., 3., 3., 6., 8., 4., 7., 4., 2.,\n",
       "       4., 8., 1., 6., 0., 7., 6., 2., 2., 7., 1., 2., 6., 5., 3., 1., 7.,\n",
       "       5., 0., 8., 1., 1., 3., 2., 8., 7., 1., 8., 1., 9., 6., 8., 0., 8.,\n",
       "       0., 2., 0., 2., 1., 4., 1., 3., 4., 8., 9., 8., 5., 7., 0., 1., 9.,\n",
       "       8., 4., 8., 4., 7., 0., 0., 8., 1., 0., 1., 3., 8., 1., 0., 5., 3.,\n",
       "       3., 2., 7., 5., 4., 9., 6., 7., 3., 8., 5., 1., 3., 9., 4., 8., 1.,\n",
       "       1., 1., 9., 5., 3., 5., 7., 0., 1., 4., 4., 7., 6., 0., 1., 1., 3.,\n",
       "       6., 6., 9., 6., 4., 6., 0., 0., 5., 4., 5., 6., 0., 3., 7., 7., 0.,\n",
       "       7., 1., 6., 2., 2., 8., 3., 6., 4., 1., 1., 1., 7., 7., 0., 5., 9.,\n",
       "       7., 7., 6., 8., 7., 1., 6., 4., 0., 4., 2., 1., 3., 8., 7., 1., 1.,\n",
       "       7., 8., 6., 3., 6., 2., 8., 5., 1., 8., 0., 9., 5., 4., 8., 2., 7.,\n",
       "       6., 4., 7., 7., 2., 4., 1., 5., 1., 6., 6., 4., 0., 1., 9., 8., 3.,\n",
       "       5., 7., 7., 0., 6., 1., 5., 2., 1., 7., 7., 6., 2., 1., 1., 6., 3.,\n",
       "       4., 3., 1., 7., 6., 0., 8., 3., 6., 1., 0., 3., 2., 8., 0., 1., 6.,\n",
       "       5., 0., 5., 4., 8., 6., 3., 3., 2., 2., 6., 9., 2., 0., 5., 7., 6.,\n",
       "       3., 3., 0., 4., 0., 3., 4., 8., 4., 4., 1., 4., 5., 8., 6., 7., 5.,\n",
       "       1., 8., 4., 9., 5., 3., 6., 0., 4., 9., 6., 1., 3., 1., 4., 6., 8.,\n",
       "       4., 3., 4., 5., 2., 7., 2., 0., 7., 0., 3., 5., 6., 5., 8., 8., 7.,\n",
       "       9., 6., 9., 0., 3., 8., 6., 2., 9., 6., 6., 2., 7., 2., 1., 9., 3.,\n",
       "       8., 7., 8., 6., 0., 0., 4., 7., 8., 2., 5., 5., 8., 2., 4., 7., 3.,\n",
       "       9., 8., 1., 4., 4., 9., 7., 9., 8., 9., 0., 9., 9., 5., 3., 7., 8.,\n",
       "       2., 0., 1., 7., 9., 4., 8., 1., 2., 5., 3., 2., 8., 5., 6., 3., 9.,\n",
       "       4., 9., 0., 4., 4., 9., 7., 6., 8., 7., 1., 0., 9., 0., 2., 3., 2.,\n",
       "       2., 2., 9., 2., 8., 5., 9., 9., 2., 1., 4., 7., 9., 6., 6., 4., 6.,\n",
       "       1., 1., 4., 3., 2., 0., 0., 9., 7., 9., 6., 2., 3., 5., 9., 8., 4.,\n",
       "       2., 5., 3., 0., 8., 6., 2., 5., 6., 5., 4., 0., 1., 8., 7., 0., 5.,\n",
       "       2., 3., 2.])"
      ]
     },
     "execution_count": 29,
     "metadata": {},
     "output_type": "execute_result"
    }
   ],
   "source": [
    "%time clf.predict(X_test)"
   ]
  },
  {
   "cell_type": "code",
   "execution_count": 49,
   "metadata": {},
   "outputs": [
    {
     "name": "stdout",
     "output_type": "stream",
     "text": [
      "CPU times: user 1min 26s, sys: 648 ms, total: 1min 26s\n",
      "Wall time: 1min 27s\n"
     ]
    },
    {
     "data": {
      "text/plain": [
       "array([0., 7., 2., 7., 6., 9., 5., 9., 0., 5., 7., 0., 7., 5., 5., 1., 1.,\n",
       "       5., 0., 3., 1., 0., 1., 2., 3., 4., 1., 5., 1., 3., 5., 9., 2., 7.,\n",
       "       0., 9., 5., 7., 3., 3., 9., 9., 0., 4., 8., 9., 4., 3., 1., 0., 7.,\n",
       "       7., 9., 1., 8., 5., 4., 5., 9., 4., 9., 7., 3., 7., 9., 6., 5., 6.,\n",
       "       9., 1., 6., 1., 8., 0., 4., 3., 4., 9., 3., 7., 4., 7., 8., 3., 7.,\n",
       "       2., 4., 6., 1., 9., 4., 5., 7., 1., 3., 6., 4., 1., 5., 2., 1., 5.,\n",
       "       1., 2., 8., 9., 1., 3., 2., 4., 1., 9., 3., 7., 4., 2., 6., 3., 9.,\n",
       "       9., 2., 4., 6., 6., 4., 0., 8., 7., 2., 5., 5., 4., 8., 5., 7., 3.,\n",
       "       1., 0., 6., 6., 1., 1., 6., 7., 0., 5., 3., 9., 8., 0., 8., 1., 1.,\n",
       "       7., 1., 1., 0., 9., 4., 7., 5., 2., 4., 4., 5., 7., 9., 6., 0., 4.,\n",
       "       7., 8., 1., 0., 7., 4., 3., 1., 7., 3., 1., 3., 2., 8., 5., 1., 2.,\n",
       "       9., 9., 8., 3., 9., 2., 3., 8., 0., 0., 4., 8., 3., 3., 6., 0., 2.,\n",
       "       0., 8., 2., 7., 3., 8., 2., 4., 0., 3., 9., 2., 0., 2., 3., 0., 1.,\n",
       "       6., 3., 5., 5., 0., 6., 3., 8., 4., 3., 5., 7., 1., 7., 9., 0., 5.,\n",
       "       5., 5., 9., 7., 3., 2., 7., 7., 7., 2., 0., 1., 9., 2., 1., 5., 2.,\n",
       "       2., 0., 5., 6., 3., 2., 4., 1., 7., 3., 3., 6., 8., 4., 7., 4., 2.,\n",
       "       4., 8., 1., 6., 0., 7., 6., 2., 2., 7., 1., 2., 6., 5., 3., 1., 7.,\n",
       "       5., 0., 8., 1., 1., 3., 2., 8., 7., 1., 8., 1., 9., 6., 8., 0., 8.,\n",
       "       0., 2., 0., 2., 1., 4., 1., 3., 4., 8., 9., 8., 5., 7., 0., 1., 9.,\n",
       "       8., 4., 8., 4., 7., 0., 0., 8., 1., 0., 1., 3., 8., 1., 0., 5., 3.,\n",
       "       3., 2., 7., 5., 4., 9., 6., 7., 3., 8., 5., 1., 3., 9., 4., 8., 1.,\n",
       "       1., 1., 9., 5., 3., 5., 7., 0., 1., 4., 4., 7., 6., 0., 1., 1., 3.,\n",
       "       6., 6., 9., 6., 4., 6., 0., 0., 5., 4., 5., 6., 0., 3., 7., 7., 0.,\n",
       "       7., 1., 6., 2., 2., 8., 3., 6., 4., 1., 1., 1., 7., 7., 0., 5., 9.,\n",
       "       7., 7., 6., 8., 7., 1., 6., 4., 0., 4., 2., 1., 3., 8., 7., 1., 1.,\n",
       "       7., 8., 6., 3., 6., 2., 8., 5., 1., 8., 0., 9., 5., 4., 8., 2., 7.,\n",
       "       6., 4., 7., 7., 2., 4., 1., 5., 1., 6., 6., 4., 0., 1., 9., 8., 3.,\n",
       "       5., 7., 7., 0., 6., 1., 5., 2., 1., 7., 7., 6., 2., 1., 1., 6., 3.,\n",
       "       4., 3., 1., 7., 6., 0., 8., 3., 6., 1., 0., 3., 2., 8., 0., 1., 6.,\n",
       "       5., 0., 5., 4., 8., 6., 3., 3., 2., 2., 6., 9., 2., 0., 5., 7., 6.,\n",
       "       3., 3., 0., 4., 0., 3., 4., 8., 4., 4., 1., 4., 5., 8., 6., 7., 5.,\n",
       "       1., 8., 4., 9., 5., 3., 6., 0., 4., 9., 6., 1., 3., 1., 4., 6., 8.,\n",
       "       4., 3., 4., 5., 2., 7., 2., 0., 7., 0., 3., 5., 6., 5., 8., 8., 7.,\n",
       "       9., 6., 9., 0., 3., 8., 6., 2., 9., 6., 6., 2., 7., 2., 1., 9., 3.,\n",
       "       8., 7., 8., 6., 0., 0., 4., 7., 8., 2., 5., 5., 8., 2., 4., 7., 3.,\n",
       "       9., 8., 1., 4., 4., 9., 7., 9., 8., 9., 0., 9., 9., 5., 3., 7., 8.,\n",
       "       2., 0., 1., 7., 9., 4., 8., 1., 2., 5., 3., 2., 8., 5., 6., 3., 9.,\n",
       "       4., 9., 0., 4., 4., 9., 7., 6., 8., 7., 1., 0., 9., 0., 2., 3., 2.,\n",
       "       2., 2., 9., 2., 8., 5., 9., 9., 2., 1., 4., 7., 9., 6., 6., 4., 6.,\n",
       "       1., 1., 4., 3., 2., 0., 0., 9., 7., 9., 6., 2., 3., 5., 9., 8., 4.,\n",
       "       2., 5., 3., 0., 8., 6., 2., 5., 6., 5., 4., 0., 1., 8., 7., 0., 5.,\n",
       "       2., 3., 2.])"
      ]
     },
     "execution_count": 49,
     "metadata": {},
     "output_type": "execute_result"
    }
   ],
   "source": [
    "%time my_clf.predict(X_test)"
   ]
  },
  {
   "cell_type": "code",
   "execution_count": 13,
   "metadata": {},
   "outputs": [
    {
     "name": "stdout",
     "output_type": "stream",
     "text": [
      "CPU times: user 59.4 s, sys: 285 ms, total: 59.7 s\n",
      "Wall time: 1min\n"
     ]
    },
    {
     "data": {
      "text/plain": [
       "array([[0., 0., 0., ..., 0., 0., 0.],\n",
       "       [0., 0., 0., ..., 0., 0., 0.],\n",
       "       [0., 0., 0., ..., 0., 0., 0.],\n",
       "       ...,\n",
       "       [0., 0., 0., ..., 0., 0., 0.],\n",
       "       [0., 1., 0., ..., 0., 0., 0.],\n",
       "       [0., 0., 0., ..., 1., 0., 0.]])"
      ]
     },
     "execution_count": 13,
     "metadata": {},
     "output_type": "execute_result"
    }
   ],
   "source": [
    "%time clf.predict_proba(X_test)"
   ]
  },
  {
   "cell_type": "code",
   "execution_count": 12,
   "metadata": {},
   "outputs": [
    {
     "name": "stdout",
     "output_type": "stream",
     "text": [
      "CPU times: user 1min 20s, sys: 209 ms, total: 1min 20s\n",
      "Wall time: 1min 20s\n"
     ]
    },
    {
     "data": {
      "text/plain": [
       "array([[0., 0., 0., ..., 0., 0., 0.],\n",
       "       [0., 0., 0., ..., 0., 0., 0.],\n",
       "       [0., 0., 0., ..., 0., 0., 0.],\n",
       "       ...,\n",
       "       [0., 0., 0., ..., 0., 0., 0.],\n",
       "       [0., 1., 0., ..., 0., 0., 0.],\n",
       "       [0., 0., 0., ..., 1., 0., 0.]])"
      ]
     },
     "execution_count": 12,
     "metadata": {},
     "output_type": "execute_result"
    }
   ],
   "source": [
    "%time my_clf.predict_proba(X_test)"
   ]
  },
  {
   "cell_type": "code",
   "execution_count": 38,
   "metadata": {},
   "outputs": [
    {
     "data": {
      "text/plain": [
       "0.9685714285714285"
      ]
     },
     "execution_count": 38,
     "metadata": {},
     "output_type": "execute_result"
    }
   ],
   "source": [
    "clf.score(X_test, y_test)"
   ]
  },
  {
   "cell_type": "code",
   "execution_count": 39,
   "metadata": {},
   "outputs": [
    {
     "data": {
      "text/plain": [
       "0.9685714285714285"
      ]
     },
     "execution_count": 39,
     "metadata": {},
     "output_type": "execute_result"
    }
   ],
   "source": [
    "my_clf.score(X_test, y_test)"
   ]
  },
  {
   "cell_type": "markdown",
   "metadata": {},
   "source": [
    "Задание 5"
   ]
  },
  {
   "cell_type": "markdown",
   "metadata": {},
   "source": [
    "***seaborn***\n",
    "  Библиотека, отснованная на matplotlib, для визуализации данных\n",
    "  \n",
    "***matplotlib***\n",
    "  Библиотека для построения графиков \n",
    "  \n",
    "***train_test_split***\n",
    "  Разбитие данных на два массива: тренировочный и тестовый\n",
    "  \n",
    "***Pipelin%load_ext e (from sklearn.pipeline import Pipeline)***\n",
    "  Конвейр для последовательного преобразования данных\n",
    "  \n",
    "***StandardScaler (from sklearn.preprocessing import StandardScaler)***\n",
    "  Преобразование данных к нормальному виду:\n",
    "  распределение имет среднее значение 0 и стандартное отклонение 1\n",
    "  \n",
    "***ClassifierMixin***\n",
    "  Базовый класс для классификаторов sklearn\n",
    "  \n",
    "***NeighborsBase***\n",
    "  Базовый класс для KNN из sklearn\n",
    "  \n",
    "***KNeighborsMixin*** \n",
    "  Базовый класс для KNN, содаржащий методы поиска соседей\n",
    "  \n",
    "***SupervisedIntegerMixin***\n",
    "  Базовый класс, содержащий метод fit() для обучения"
   ]
  },
  {
   "cell_type": "code",
   "execution_count": null,
   "metadata": {},
   "outputs": [],
   "source": []
  },
  {
   "cell_type": "code",
   "execution_count": null,
   "metadata": {},
   "outputs": [],
   "source": []
  }
 ],
 "metadata": {
  "kernelspec": {
   "display_name": "Python 3",
   "language": "python",
   "name": "python3"
  },
  "language_info": {
   "codemirror_mode": {
    "name": "ipython",
    "version": 3
   },
   "file_extension": ".py",
   "mimetype": "text/x-python",
   "name": "python",
   "nbconvert_exporter": "python",
   "pygments_lexer": "ipython3",
   "version": "3.6.6"
  }
 },
 "nbformat": 4,
 "nbformat_minor": 2
}
